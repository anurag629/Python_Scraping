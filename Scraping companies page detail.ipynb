{
 "cells": [
  {
   "cell_type": "code",
   "execution_count": 1,
   "id": "e3bf0ba9",
   "metadata": {},
   "outputs": [],
   "source": [
    "# importing two modules named selenium and pandas\n",
    "# pandas for converting scraped data into exel file\n",
    "# selenium for scraping data\n",
    "\n",
    "import pandas as pd\n",
    "from selenium import webdriver\n"
   ]
  },
  {
   "cell_type": "code",
   "execution_count": 2,
   "id": "5ad0f527",
   "metadata": {},
   "outputs": [],
   "source": [
    "# run the chrome driver .exe file and then paste link of site from where you want to scrape the data\n",
    "# I have selected the arts and design and pasted the link \n",
    "# here we are going to scrap details of company named brandmovers which lies in art and design catagory\n",
    "\n",
    "browser = webdriver.Chrome(\"chromedriver.exe\")\n",
    "browser.get(\"https://www.linkedin.com/company/brandmovers-india/\")"
   ]
  },
  {
   "cell_type": "code",
   "execution_count": 4,
   "id": "700b1d3b",
   "metadata": {},
   "outputs": [
    {
     "name": "stdout",
     "output_type": "stream",
     "text": [
      "['We envision a connected world. And no, we aren’t talking about more devices and wires. For us, this business is about people. It’s about the people we work with. Each Brandmover is handpicked, talented, and eager to put our clients first. We work closely together—both with each other and with our clients. Clients aren’t just companies; they’re people too. Whether from a startup or a Fortune 500 company, they all have products and services they want to share with the world. Every day we’re honoured to play a big part in helping them spread their good ideas across the globe.']\n",
      "1\n",
      "['MUMBAI, MAHARASHTRA 2,576 followers']\n",
      "1\n",
      "['View all 49 employees']\n",
      "1\n"
     ]
    }
   ],
   "source": [
    "# scraping data by using class of html\n",
    "# after storing in list print and check wheather you have got correct details or not\n",
    "\n",
    "company_description = browser.find_elements_by_class_name(\"about-us__description\")\n",
    "company_location = browser.find_elements_by_class_name(\"top-card-layout__first-subline\")\n",
    "no_employees = browser.find_elements_by_class_name(\"face-pile__cta\")\n",
    "\n",
    "company_description_l = []\n",
    "company_location_l = []\n",
    "no_employees_l = []\n",
    "\n",
    "for i in company_description:\n",
    "    company_description_l.append(i.text)\n",
    "    \n",
    "for i in company_location:\n",
    "    company_location_l.append(i.text)\n",
    "    \n",
    "for i in no_employees:\n",
    "    no_employees_l.append(i.text)\n",
    "      \n",
    "print(company_description_l)\n",
    "print(len(company_description_l))\n",
    "\n",
    "print(company_location_l)\n",
    "print(len(company_location_l))\n",
    "\n",
    "print(no_employees_l)\n",
    "print(len(no_employees_l))"
   ]
  },
  {
   "cell_type": "code",
   "execution_count": null,
   "id": "6320c8d2",
   "metadata": {},
   "outputs": [],
   "source": []
  }
 ],
 "metadata": {
  "kernelspec": {
   "display_name": "Python 3",
   "language": "python",
   "name": "python3"
  },
  "language_info": {
   "codemirror_mode": {
    "name": "ipython",
    "version": 3
   },
   "file_extension": ".py",
   "mimetype": "text/x-python",
   "name": "python",
   "nbconvert_exporter": "python",
   "pygments_lexer": "ipython3",
   "version": "3.8.8"
  }
 },
 "nbformat": 4,
 "nbformat_minor": 5
}
